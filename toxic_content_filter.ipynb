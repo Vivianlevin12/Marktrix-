{
 "cells": [
  {
   "cell_type": "code",
   "execution_count": 1,
   "id": "d92d81c1-670a-499b-9a54-83ffc3bacb42",
   "metadata": {},
   "outputs": [],
   "source": [
    "#Imports "
   ]
  },
  {
   "cell_type": "code",
   "execution_count": 161,
   "id": "e6567952-4d89-4bca-b805-6cf48f9ae110",
   "metadata": {},
   "outputs": [
    {
     "name": "stderr",
     "output_type": "stream",
     "text": [
      "Using cache found in C:\\Users\\One1/.cache\\torch\\hub\\unitaryai_detoxify_master\n"
     ]
    }
   ],
   "source": [
    "# pip install detoxify\n",
    "#pip install langdetect\n",
    "import pandas as pd\n",
    "from detoxify import Detoxify\n",
    "import torch\n",
    "from langdetect import detect\n",
    "\n",
    "#download model foe fast response\n",
    "model = torch.hub.load('unitaryai/detoxify','toxic_bert')"
   ]
  },
  {
   "cell_type": "code",
   "execution_count": 335,
   "id": "6ebdfe17",
   "metadata": {},
   "outputs": [],
   "source": [
    "#a function that return toxicity score and 0 if not toxic and 1 toxic need to regenerate\n",
    "#Create post generation filter model. - nazi, holocaust, racist, conflict, Palestinian, war, derogatory\n",
    "def predict_toxicity(text):\n",
    "    original = []\n",
    "    unbiased = []\n",
    "    results_original = pd.DataFrame()\n",
    "    results_unbiased = pd.DataFrame()\n",
    "    should_regenerate = 0\n",
    "    input_text = []\n",
    "    input_text = text\n",
    "    #input_text = ''.join(str(x) for x in text)  \n",
    "    text_len = len(input_text)\n",
    "    #to_block_text = ['nazi', 'weed', 'cannabis', 'holocaust', 'racist', 'conflict', 'Palestinian', 'war', 'sex', 'gay', 'lesbian', 'fat']\n",
    "  \n",
    "    if 'nazi' or 'weed' or 'cannabis' or 'sex' or 'sexy' or 'palestinian' or 'holocaust' or 'racist' or 'war' or 'gay' or  'lesbian' in any(input_text) :\n",
    "        should_regenerate = 1\n",
    "        \n",
    "    if text_len == 0 :\n",
    "        should_regenerate = 1   \n",
    "    \n",
    "    if text_len >= 0 and text_len < 39 :\n",
    "        threshold_original = 0.06\n",
    "        threshold_unbias = 0.15\n",
    "    \n",
    "    if  text_len >= 39 :\n",
    "        threshold_original = 0.001\n",
    "        threshold_unbias = 0.1\n",
    "    \n",
    " \n",
    "    if detect(input_text) == 'en':\n",
    "        results_original = Detoxify('original').predict(input_text)\n",
    "        results_unbiased = Detoxify('unbiased').predict(input_text)\n",
    "        print(results_original)\n",
    "        print(results_unbiased)\n",
    "        if results_original['toxicity']>= threshold_original or results_unbiased['toxicity']>= threshold_unbias:\n",
    "            should_regenerate  = 1\n",
    "        else:\n",
    "            should_regenerate  = 0   \n",
    "              \n",
    "    else:\n",
    "         should_regenerate  = 0\n",
    "        \n",
    "    return should_regenerate\n"
   ]
  },
  {
   "cell_type": "code",
   "execution_count": null,
   "id": "d2d34911",
   "metadata": {},
   "outputs": [],
   "source": []
  },
  {
   "cell_type": "code",
   "execution_count": null,
   "id": "9184de0d",
   "metadata": {},
   "outputs": [],
   "source": []
  }
 ],
 "metadata": {
  "kernelspec": {
   "display_name": "Python 3 (ipykernel)",
   "language": "python",
   "name": "python3"
  },
  "language_info": {
   "codemirror_mode": {
    "name": "ipython",
    "version": 3
   },
   "file_extension": ".py",
   "mimetype": "text/x-python",
   "name": "python",
   "nbconvert_exporter": "python",
   "pygments_lexer": "ipython3",
   "version": "3.9.13"
  }
 },
 "nbformat": 4,
 "nbformat_minor": 5
}
